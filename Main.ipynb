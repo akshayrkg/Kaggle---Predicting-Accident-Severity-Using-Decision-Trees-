{
 "cells": [
  {
   "cell_type": "markdown",
   "metadata": {},
   "source": [
    "### Importing Packages\n",
    "\n"
   ]
  },
  {
   "cell_type": "code",
   "execution_count": 14,
   "metadata": {},
   "outputs": [],
   "source": [
    "\n",
    "import numpy as np\n",
    "import pandas as pd\n",
    "from sklearn.model_selection import GridSearchCV\n",
    "from sklearn.model_selection import KFold\n",
    "from xgboost import XGBClassifier\n",
    "from sklearn.model_selection import ShuffleSplit\n",
    "from sklearn.model_selection import cross_val_score\n",
    "from sklearn.ensemble import GradientBoostingClassifier\n",
    "import matplotlib.pyplot as plt\n",
    "from sklearn.metrics import confusion_matrix\n",
    "from sklearn.model_selection import train_test_split\n",
    "from sklearn.tree import DecisionTreeClassifier\n",
    "from sklearn.metrics import accuracy_score\n",
    "from sklearn.metrics import classification_report\n",
    "from scipy.stats import mode\n",
    "from sklearn.ensemble import AdaBoostClassifier\n",
    "from sklearn.ensemble import RandomForestClassifier"
   ]
  },
  {
   "cell_type": "markdown",
   "metadata": {},
   "source": [
    "### Load Data"
   ]
  },
  {
   "cell_type": "code",
   "execution_count": 22,
   "metadata": {},
   "outputs": [
    {
     "data": {
      "text/html": [
       "<div>\n",
       "<style scoped>\n",
       "    .dataframe tbody tr th:only-of-type {\n",
       "        vertical-align: middle;\n",
       "    }\n",
       "\n",
       "    .dataframe tbody tr th {\n",
       "        vertical-align: top;\n",
       "    }\n",
       "\n",
       "    .dataframe thead th {\n",
       "        text-align: right;\n",
       "    }\n",
       "</style>\n",
       "<table border=\"1\" class=\"dataframe\">\n",
       "  <thead>\n",
       "    <tr style=\"text-align: right;\">\n",
       "      <th></th>\n",
       "      <th>Collision_Ref_No</th>\n",
       "      <th>Collision_Severity</th>\n",
       "      <th>Day_of_Collision</th>\n",
       "      <th>Month_of_Collision</th>\n",
       "      <th>Hour_of_Collision</th>\n",
       "      <th>Carriageway_Type</th>\n",
       "      <th>Speed_Limit</th>\n",
       "      <th>Junction_Detail</th>\n",
       "      <th>Junction_Control</th>\n",
       "      <th>Ped_Crossing_HC</th>\n",
       "      <th>Ped_Crossing_PC</th>\n",
       "      <th>Light_Conditions</th>\n",
       "      <th>Weather_Conditions</th>\n",
       "      <th>Road_Surface_Conditions</th>\n",
       "      <th>Special_Conditions_at_Site</th>\n",
       "    </tr>\n",
       "  </thead>\n",
       "  <tbody>\n",
       "    <tr>\n",
       "      <th>count</th>\n",
       "      <td>10043.000000</td>\n",
       "      <td>10043.000000</td>\n",
       "      <td>10043.000000</td>\n",
       "      <td>10043.000000</td>\n",
       "      <td>9759.000000</td>\n",
       "      <td>10043.000000</td>\n",
       "      <td>10043.000000</td>\n",
       "      <td>9750.000000</td>\n",
       "      <td>9744.000000</td>\n",
       "      <td>9722.000000</td>\n",
       "      <td>9743.000000</td>\n",
       "      <td>10043.000000</td>\n",
       "      <td>10043.000000</td>\n",
       "      <td>9734.000000</td>\n",
       "      <td>9755.000000</td>\n",
       "    </tr>\n",
       "    <tr>\n",
       "      <th>mean</th>\n",
       "      <td>6565.855720</td>\n",
       "      <td>2.880613</td>\n",
       "      <td>15.662153</td>\n",
       "      <td>6.655382</td>\n",
       "      <td>13.624859</td>\n",
       "      <td>12.201036</td>\n",
       "      <td>42.415613</td>\n",
       "      <td>6.400410</td>\n",
       "      <td>4.158764</td>\n",
       "      <td>1.007714</td>\n",
       "      <td>2.231243</td>\n",
       "      <td>3.237778</td>\n",
       "      <td>4.717216</td>\n",
       "      <td>1.661804</td>\n",
       "      <td>1.057099</td>\n",
       "    </tr>\n",
       "    <tr>\n",
       "      <th>std</th>\n",
       "      <td>3928.749772</td>\n",
       "      <td>0.359226</td>\n",
       "      <td>8.783339</td>\n",
       "      <td>3.526781</td>\n",
       "      <td>5.099759</td>\n",
       "      <td>2.744209</td>\n",
       "      <td>14.524589</td>\n",
       "      <td>5.016853</td>\n",
       "      <td>2.864940</td>\n",
       "      <td>0.114938</td>\n",
       "      <td>3.252212</td>\n",
       "      <td>2.067334</td>\n",
       "      <td>3.745739</td>\n",
       "      <td>1.470371</td>\n",
       "      <td>0.480414</td>\n",
       "    </tr>\n",
       "    <tr>\n",
       "      <th>min</th>\n",
       "      <td>1.000000</td>\n",
       "      <td>1.000000</td>\n",
       "      <td>1.000000</td>\n",
       "      <td>1.000000</td>\n",
       "      <td>0.000000</td>\n",
       "      <td>1.000000</td>\n",
       "      <td>10.000000</td>\n",
       "      <td>1.000000</td>\n",
       "      <td>1.000000</td>\n",
       "      <td>1.000000</td>\n",
       "      <td>1.000000</td>\n",
       "      <td>1.000000</td>\n",
       "      <td>1.000000</td>\n",
       "      <td>1.000000</td>\n",
       "      <td>1.000000</td>\n",
       "    </tr>\n",
       "    <tr>\n",
       "      <th>25%</th>\n",
       "      <td>3060.500000</td>\n",
       "      <td>3.000000</td>\n",
       "      <td>8.000000</td>\n",
       "      <td>4.000000</td>\n",
       "      <td>10.000000</td>\n",
       "      <td>13.000000</td>\n",
       "      <td>30.000000</td>\n",
       "      <td>1.000000</td>\n",
       "      <td>1.000000</td>\n",
       "      <td>1.000000</td>\n",
       "      <td>1.000000</td>\n",
       "      <td>1.000000</td>\n",
       "      <td>1.000000</td>\n",
       "      <td>1.000000</td>\n",
       "      <td>1.000000</td>\n",
       "    </tr>\n",
       "    <tr>\n",
       "      <th>50%</th>\n",
       "      <td>7009.000000</td>\n",
       "      <td>3.000000</td>\n",
       "      <td>16.000000</td>\n",
       "      <td>7.000000</td>\n",
       "      <td>14.000000</td>\n",
       "      <td>13.000000</td>\n",
       "      <td>30.000000</td>\n",
       "      <td>6.000000</td>\n",
       "      <td>4.000000</td>\n",
       "      <td>1.000000</td>\n",
       "      <td>1.000000</td>\n",
       "      <td>3.000000</td>\n",
       "      <td>3.000000</td>\n",
       "      <td>1.000000</td>\n",
       "      <td>1.000000</td>\n",
       "    </tr>\n",
       "    <tr>\n",
       "      <th>75%</th>\n",
       "      <td>10078.500000</td>\n",
       "      <td>3.000000</td>\n",
       "      <td>23.000000</td>\n",
       "      <td>10.000000</td>\n",
       "      <td>17.000000</td>\n",
       "      <td>13.000000</td>\n",
       "      <td>60.000000</td>\n",
       "      <td>12.000000</td>\n",
       "      <td>7.000000</td>\n",
       "      <td>1.000000</td>\n",
       "      <td>1.000000</td>\n",
       "      <td>5.000000</td>\n",
       "      <td>9.000000</td>\n",
       "      <td>2.000000</td>\n",
       "      <td>1.000000</td>\n",
       "    </tr>\n",
       "    <tr>\n",
       "      <th>max</th>\n",
       "      <td>13147.000000</td>\n",
       "      <td>3.000000</td>\n",
       "      <td>31.000000</td>\n",
       "      <td>12.000000</td>\n",
       "      <td>23.000000</td>\n",
       "      <td>14.000000</td>\n",
       "      <td>70.000000</td>\n",
       "      <td>12.000000</td>\n",
       "      <td>7.000000</td>\n",
       "      <td>3.000000</td>\n",
       "      <td>12.000000</td>\n",
       "      <td>7.000000</td>\n",
       "      <td>10.000000</td>\n",
       "      <td>10.000000</td>\n",
       "      <td>6.000000</td>\n",
       "    </tr>\n",
       "  </tbody>\n",
       "</table>\n",
       "</div>"
      ],
      "text/plain": [
       "       Collision_Ref_No  Collision_Severity  Day_of_Collision  \\\n",
       "count      10043.000000        10043.000000      10043.000000   \n",
       "mean        6565.855720            2.880613         15.662153   \n",
       "std         3928.749772            0.359226          8.783339   \n",
       "min            1.000000            1.000000          1.000000   \n",
       "25%         3060.500000            3.000000          8.000000   \n",
       "50%         7009.000000            3.000000         16.000000   \n",
       "75%        10078.500000            3.000000         23.000000   \n",
       "max        13147.000000            3.000000         31.000000   \n",
       "\n",
       "       Month_of_Collision  Hour_of_Collision  Carriageway_Type   Speed_Limit  \\\n",
       "count        10043.000000        9759.000000      10043.000000  10043.000000   \n",
       "mean             6.655382          13.624859         12.201036     42.415613   \n",
       "std              3.526781           5.099759          2.744209     14.524589   \n",
       "min              1.000000           0.000000          1.000000     10.000000   \n",
       "25%              4.000000          10.000000         13.000000     30.000000   \n",
       "50%              7.000000          14.000000         13.000000     30.000000   \n",
       "75%             10.000000          17.000000         13.000000     60.000000   \n",
       "max             12.000000          23.000000         14.000000     70.000000   \n",
       "\n",
       "       Junction_Detail  Junction_Control  Ped_Crossing_HC  Ped_Crossing_PC  \\\n",
       "count      9750.000000       9744.000000      9722.000000      9743.000000   \n",
       "mean          6.400410          4.158764         1.007714         2.231243   \n",
       "std           5.016853          2.864940         0.114938         3.252212   \n",
       "min           1.000000          1.000000         1.000000         1.000000   \n",
       "25%           1.000000          1.000000         1.000000         1.000000   \n",
       "50%           6.000000          4.000000         1.000000         1.000000   \n",
       "75%          12.000000          7.000000         1.000000         1.000000   \n",
       "max          12.000000          7.000000         3.000000        12.000000   \n",
       "\n",
       "       Light_Conditions  Weather_Conditions  Road_Surface_Conditions  \\\n",
       "count      10043.000000        10043.000000              9734.000000   \n",
       "mean           3.237778            4.717216                 1.661804   \n",
       "std            2.067334            3.745739                 1.470371   \n",
       "min            1.000000            1.000000                 1.000000   \n",
       "25%            1.000000            1.000000                 1.000000   \n",
       "50%            3.000000            3.000000                 1.000000   \n",
       "75%            5.000000            9.000000                 2.000000   \n",
       "max            7.000000           10.000000                10.000000   \n",
       "\n",
       "       Special_Conditions_at_Site  \n",
       "count                 9755.000000  \n",
       "mean                     1.057099  \n",
       "std                      0.480414  \n",
       "min                      1.000000  \n",
       "25%                      1.000000  \n",
       "50%                      1.000000  \n",
       "75%                      1.000000  \n",
       "max                      6.000000  "
      ]
     },
     "execution_count": 22,
     "metadata": {},
     "output_type": "execute_result"
    }
   ],
   "source": [
    "\n",
    "data=pd.read_csv('/Users/kaku/Downloads/AIML/Crashathon/Accident_train.csv')\n",
    "data.describe()"
   ]
  },
  {
   "cell_type": "code",
   "execution_count": 23,
   "metadata": {},
   "outputs": [],
   "source": [
    "#data['Special_Conditions_at_Site'].value_counts()"
   ]
  },
  {
   "cell_type": "markdown",
   "metadata": {},
   "source": [
    "### Data Preprocessing"
   ]
  },
  {
   "cell_type": "code",
   "execution_count": 24,
   "metadata": {},
   "outputs": [
    {
     "data": {
      "text/plain": [
       "(10043, 16)"
      ]
     },
     "execution_count": 24,
     "metadata": {},
     "output_type": "execute_result"
    }
   ],
   "source": [
    "fin_data=data.drop(['Collision_Ref_No'], axis=1)\n",
    "fin_data.shape"
   ]
  },
  {
   "cell_type": "code",
   "execution_count": 32,
   "metadata": {},
   "outputs": [],
   "source": [
    "#Shifting Labels to the last\n",
    "cs = fin_data['Collision_Severity']\n",
    "fin_data.drop(labels=['Collision_Severity'], axis=1,inplace = True)\n",
    "fin_data.insert(12, 'Collision_Severity', cs)\n"
   ]
  },
  {
   "cell_type": "code",
   "execution_count": null,
   "metadata": {},
   "outputs": [],
   "source": [
    "##ONe hot\n",
    "hot_weekday=pd.get_dummies(fin_data['Weekday_of_Collision'])\n",
    "hot_areas=pd.get_dummies(fin_data['Policing_Area'])\n",
    "#fin_data['Weekday_of_Collision'].unique()"
   ]
  },
  {
   "cell_type": "code",
   "execution_count": null,
   "metadata": {
    "scrolled": true
   },
   "outputs": [],
   "source": [
    "fin_data=pd.concat([hot_areas,hot_weekday,fin_data], axis=1)\n",
    "#print(list(large_data),large_data.shape)"
   ]
  },
  {
   "cell_type": "code",
   "execution_count": 25,
   "metadata": {},
   "outputs": [
    {
     "data": {
      "text/plain": [
       "(10043, 17)"
      ]
     },
     "execution_count": 25,
     "metadata": {},
     "output_type": "execute_result"
    }
   ],
   "source": [
    "###discretisation\n",
    "fin_data['Policing'] = fin_data.Policing_Area.astype('category').cat.rename_categories(range(1, fin_data.Policing_Area.nunique()+1))\n",
    "\n",
    "week={'MON':1,'TUE':2,'WED':3,'THU':4,'FRI':5,'SAT':6,'SUN':7}\n",
    "fin_data[\"Weekday_of_Collision\"] = fin_data[\"Weekday_of_Collision\"].map(week)\n",
    "\n",
    "#print(list(fin_data),fin_data.shape)\n",
    "fin_data.shape"
   ]
  },
  {
   "cell_type": "code",
   "execution_count": 27,
   "metadata": {},
   "outputs": [],
   "source": [
    "fin_data=fin_data.drop(['Policing_Area','Ped_Crossing_HC','Road_Surface_Conditions','Special_Conditions_at_Site'], axis=1)"
   ]
  },
  {
   "cell_type": "code",
   "execution_count": 33,
   "metadata": {
    "scrolled": true
   },
   "outputs": [
    {
     "data": {
      "text/html": [
       "<div>\n",
       "<style scoped>\n",
       "    .dataframe tbody tr th:only-of-type {\n",
       "        vertical-align: middle;\n",
       "    }\n",
       "\n",
       "    .dataframe tbody tr th {\n",
       "        vertical-align: top;\n",
       "    }\n",
       "\n",
       "    .dataframe thead th {\n",
       "        text-align: right;\n",
       "    }\n",
       "</style>\n",
       "<table border=\"1\" class=\"dataframe\">\n",
       "  <thead>\n",
       "    <tr style=\"text-align: right;\">\n",
       "      <th></th>\n",
       "      <th>Weekday_of_Collision</th>\n",
       "      <th>Day_of_Collision</th>\n",
       "      <th>Month_of_Collision</th>\n",
       "      <th>Hour_of_Collision</th>\n",
       "      <th>Carriageway_Type</th>\n",
       "      <th>Speed_Limit</th>\n",
       "      <th>Junction_Detail</th>\n",
       "      <th>Junction_Control</th>\n",
       "      <th>Ped_Crossing_PC</th>\n",
       "      <th>Light_Conditions</th>\n",
       "      <th>Weather_Conditions</th>\n",
       "      <th>Policing</th>\n",
       "      <th>Collision_Severity</th>\n",
       "    </tr>\n",
       "  </thead>\n",
       "  <tbody>\n",
       "    <tr>\n",
       "      <th>0</th>\n",
       "      <td>1</td>\n",
       "      <td>4</td>\n",
       "      <td>8</td>\n",
       "      <td>14.0</td>\n",
       "      <td>13</td>\n",
       "      <td>60</td>\n",
       "      <td>1.0</td>\n",
       "      <td>1.0</td>\n",
       "      <td>1.0</td>\n",
       "      <td>2</td>\n",
       "      <td>9</td>\n",
       "      <td>20</td>\n",
       "      <td>3</td>\n",
       "    </tr>\n",
       "    <tr>\n",
       "      <th>1</th>\n",
       "      <td>6</td>\n",
       "      <td>8</td>\n",
       "      <td>8</td>\n",
       "      <td>17.0</td>\n",
       "      <td>11</td>\n",
       "      <td>50</td>\n",
       "      <td>12.0</td>\n",
       "      <td>7.0</td>\n",
       "      <td>1.0</td>\n",
       "      <td>4</td>\n",
       "      <td>3</td>\n",
       "      <td>8</td>\n",
       "      <td>3</td>\n",
       "    </tr>\n",
       "    <tr>\n",
       "      <th>2</th>\n",
       "      <td>3</td>\n",
       "      <td>5</td>\n",
       "      <td>11</td>\n",
       "      <td>17.0</td>\n",
       "      <td>1</td>\n",
       "      <td>60</td>\n",
       "      <td>12.0</td>\n",
       "      <td>7.0</td>\n",
       "      <td>1.0</td>\n",
       "      <td>2</td>\n",
       "      <td>2</td>\n",
       "      <td>29</td>\n",
       "      <td>3</td>\n",
       "    </tr>\n",
       "    <tr>\n",
       "      <th>3</th>\n",
       "      <td>7</td>\n",
       "      <td>18</td>\n",
       "      <td>10</td>\n",
       "      <td>16.0</td>\n",
       "      <td>12</td>\n",
       "      <td>70</td>\n",
       "      <td>6.0</td>\n",
       "      <td>NaN</td>\n",
       "      <td>1.0</td>\n",
       "      <td>1</td>\n",
       "      <td>3</td>\n",
       "      <td>8</td>\n",
       "      <td>3</td>\n",
       "    </tr>\n",
       "    <tr>\n",
       "      <th>4</th>\n",
       "      <td>1</td>\n",
       "      <td>23</td>\n",
       "      <td>11</td>\n",
       "      <td>9.0</td>\n",
       "      <td>13</td>\n",
       "      <td>60</td>\n",
       "      <td>6.0</td>\n",
       "      <td>7.0</td>\n",
       "      <td>1.0</td>\n",
       "      <td>2</td>\n",
       "      <td>3</td>\n",
       "      <td>33</td>\n",
       "      <td>3</td>\n",
       "    </tr>\n",
       "  </tbody>\n",
       "</table>\n",
       "</div>"
      ],
      "text/plain": [
       "   Weekday_of_Collision  Day_of_Collision  Month_of_Collision  \\\n",
       "0                     1                 4                   8   \n",
       "1                     6                 8                   8   \n",
       "2                     3                 5                  11   \n",
       "3                     7                18                  10   \n",
       "4                     1                23                  11   \n",
       "\n",
       "   Hour_of_Collision  Carriageway_Type  Speed_Limit  Junction_Detail  \\\n",
       "0               14.0                13           60              1.0   \n",
       "1               17.0                11           50             12.0   \n",
       "2               17.0                 1           60             12.0   \n",
       "3               16.0                12           70              6.0   \n",
       "4                9.0                13           60              6.0   \n",
       "\n",
       "   Junction_Control  Ped_Crossing_PC  Light_Conditions  Weather_Conditions  \\\n",
       "0               1.0              1.0                 2                   9   \n",
       "1               7.0              1.0                 4                   3   \n",
       "2               7.0              1.0                 2                   2   \n",
       "3               NaN              1.0                 1                   3   \n",
       "4               7.0              1.0                 2                   3   \n",
       "\n",
       "  Policing  Collision_Severity  \n",
       "0       20                   3  \n",
       "1        8                   3  \n",
       "2       29                   3  \n",
       "3        8                   3  \n",
       "4       33                   3  "
      ]
     },
     "execution_count": 33,
     "metadata": {},
     "output_type": "execute_result"
    }
   ],
   "source": [
    "fin_data.head()"
   ]
  },
  {
   "cell_type": "code",
   "execution_count": 34,
   "metadata": {
    "scrolled": false
   },
   "outputs": [
    {
     "data": {
      "text/plain": [
       "['Hour_of_Collision',\n",
       " 'Junction_Detail',\n",
       " 'Junction_Control',\n",
       " 'Ped_Crossing_PC',\n",
       " 'Policing']"
      ]
     },
     "execution_count": 34,
     "metadata": {},
     "output_type": "execute_result"
    }
   ],
   "source": [
    "##columns containing Nan values\n",
    "fin_data.columns[fin_data.isna().any()].tolist()\n",
    "#large_data.loc[:, large_data.isna().any()]"
   ]
  },
  {
   "cell_type": "code",
   "execution_count": 35,
   "metadata": {},
   "outputs": [],
   "source": [
    "#large_data.max()"
   ]
  },
  {
   "cell_type": "code",
   "execution_count": 36,
   "metadata": {},
   "outputs": [],
   "source": [
    "#x=mode(large_data)\n"
   ]
  },
  {
   "cell_type": "code",
   "execution_count": 37,
   "metadata": {},
   "outputs": [],
   "source": [
    "#(x[0])"
   ]
  },
  {
   "cell_type": "code",
   "execution_count": 38,
   "metadata": {},
   "outputs": [],
   "source": [
    "##filling Nan with modes\n",
    "fin_data_full=fin_data.apply(lambda x:x.fillna(x.value_counts().index[0]))"
   ]
  },
  {
   "cell_type": "code",
   "execution_count": 39,
   "metadata": {},
   "outputs": [
    {
     "data": {
      "text/plain": [
       "[]"
      ]
     },
     "execution_count": 39,
     "metadata": {},
     "output_type": "execute_result"
    }
   ],
   "source": [
    "#large_data_full.loc[:, large_data.isna().any()]\n",
    "fin_data_full.columns[fin_data_full.isna().any()].tolist()\n",
    "#large_data.isna().any()\n",
    "#large_data_full"
   ]
  },
  {
   "cell_type": "code",
   "execution_count": null,
   "metadata": {},
   "outputs": [],
   "source": [
    "#large_data_full.describe()\n",
    "fin_data_full=fin_data_full.drop(['Ped_Crossing_HC','Special_Conditions_at_Site'],axis=1)"
   ]
  },
  {
   "cell_type": "code",
   "execution_count": 83,
   "metadata": {
    "scrolled": true
   },
   "outputs": [
    {
     "data": {
      "text/html": [
       "<div>\n",
       "<style scoped>\n",
       "    .dataframe tbody tr th:only-of-type {\n",
       "        vertical-align: middle;\n",
       "    }\n",
       "\n",
       "    .dataframe tbody tr th {\n",
       "        vertical-align: top;\n",
       "    }\n",
       "\n",
       "    .dataframe thead th {\n",
       "        text-align: right;\n",
       "    }\n",
       "</style>\n",
       "<table border=\"1\" class=\"dataframe\">\n",
       "  <thead>\n",
       "    <tr style=\"text-align: right;\">\n",
       "      <th></th>\n",
       "      <th>Weekday_of_Collision</th>\n",
       "      <th>Day_of_Collision</th>\n",
       "      <th>Month_of_Collision</th>\n",
       "      <th>Hour_of_Collision</th>\n",
       "      <th>Carriageway_Type</th>\n",
       "      <th>Speed_Limit</th>\n",
       "      <th>Junction_Detail</th>\n",
       "      <th>Junction_Control</th>\n",
       "      <th>Ped_Crossing_PC</th>\n",
       "      <th>Light_Conditions</th>\n",
       "      <th>Weather_Conditions</th>\n",
       "      <th>Collision_Severity</th>\n",
       "    </tr>\n",
       "  </thead>\n",
       "  <tbody>\n",
       "    <tr>\n",
       "      <th>count</th>\n",
       "      <td>10043.000000</td>\n",
       "      <td>10043.000000</td>\n",
       "      <td>10043.000000</td>\n",
       "      <td>10043.000000</td>\n",
       "      <td>10043.000000</td>\n",
       "      <td>10043.000000</td>\n",
       "      <td>10043.000000</td>\n",
       "      <td>10043.000000</td>\n",
       "      <td>10043.000000</td>\n",
       "      <td>10043.000000</td>\n",
       "      <td>10043.000000</td>\n",
       "      <td>10043.000000</td>\n",
       "    </tr>\n",
       "    <tr>\n",
       "      <th>mean</th>\n",
       "      <td>3.875933</td>\n",
       "      <td>15.662153</td>\n",
       "      <td>6.655382</td>\n",
       "      <td>13.720303</td>\n",
       "      <td>12.201036</td>\n",
       "      <td>42.415613</td>\n",
       "      <td>6.242856</td>\n",
       "      <td>4.243354</td>\n",
       "      <td>2.194464</td>\n",
       "      <td>3.237778</td>\n",
       "      <td>4.717216</td>\n",
       "      <td>2.880613</td>\n",
       "    </tr>\n",
       "    <tr>\n",
       "      <th>std</th>\n",
       "      <td>1.907214</td>\n",
       "      <td>8.783339</td>\n",
       "      <td>3.526781</td>\n",
       "      <td>5.058169</td>\n",
       "      <td>2.744209</td>\n",
       "      <td>14.524589</td>\n",
       "      <td>5.025990</td>\n",
       "      <td>2.862988</td>\n",
       "      <td>3.210115</td>\n",
       "      <td>2.067334</td>\n",
       "      <td>3.745739</td>\n",
       "      <td>0.359226</td>\n",
       "    </tr>\n",
       "    <tr>\n",
       "      <th>min</th>\n",
       "      <td>1.000000</td>\n",
       "      <td>1.000000</td>\n",
       "      <td>1.000000</td>\n",
       "      <td>0.000000</td>\n",
       "      <td>1.000000</td>\n",
       "      <td>10.000000</td>\n",
       "      <td>1.000000</td>\n",
       "      <td>1.000000</td>\n",
       "      <td>1.000000</td>\n",
       "      <td>1.000000</td>\n",
       "      <td>1.000000</td>\n",
       "      <td>1.000000</td>\n",
       "    </tr>\n",
       "    <tr>\n",
       "      <th>25%</th>\n",
       "      <td>2.000000</td>\n",
       "      <td>8.000000</td>\n",
       "      <td>4.000000</td>\n",
       "      <td>10.000000</td>\n",
       "      <td>13.000000</td>\n",
       "      <td>30.000000</td>\n",
       "      <td>1.000000</td>\n",
       "      <td>1.000000</td>\n",
       "      <td>1.000000</td>\n",
       "      <td>1.000000</td>\n",
       "      <td>1.000000</td>\n",
       "      <td>3.000000</td>\n",
       "    </tr>\n",
       "    <tr>\n",
       "      <th>50%</th>\n",
       "      <td>4.000000</td>\n",
       "      <td>16.000000</td>\n",
       "      <td>7.000000</td>\n",
       "      <td>14.000000</td>\n",
       "      <td>13.000000</td>\n",
       "      <td>30.000000</td>\n",
       "      <td>6.000000</td>\n",
       "      <td>7.000000</td>\n",
       "      <td>1.000000</td>\n",
       "      <td>3.000000</td>\n",
       "      <td>3.000000</td>\n",
       "      <td>3.000000</td>\n",
       "    </tr>\n",
       "    <tr>\n",
       "      <th>75%</th>\n",
       "      <td>5.000000</td>\n",
       "      <td>23.000000</td>\n",
       "      <td>10.000000</td>\n",
       "      <td>17.000000</td>\n",
       "      <td>13.000000</td>\n",
       "      <td>60.000000</td>\n",
       "      <td>12.000000</td>\n",
       "      <td>7.000000</td>\n",
       "      <td>1.000000</td>\n",
       "      <td>5.000000</td>\n",
       "      <td>9.000000</td>\n",
       "      <td>3.000000</td>\n",
       "    </tr>\n",
       "    <tr>\n",
       "      <th>max</th>\n",
       "      <td>7.000000</td>\n",
       "      <td>31.000000</td>\n",
       "      <td>12.000000</td>\n",
       "      <td>23.000000</td>\n",
       "      <td>14.000000</td>\n",
       "      <td>70.000000</td>\n",
       "      <td>12.000000</td>\n",
       "      <td>7.000000</td>\n",
       "      <td>12.000000</td>\n",
       "      <td>7.000000</td>\n",
       "      <td>10.000000</td>\n",
       "      <td>3.000000</td>\n",
       "    </tr>\n",
       "  </tbody>\n",
       "</table>\n",
       "</div>"
      ],
      "text/plain": [
       "       Weekday_of_Collision  Day_of_Collision  Month_of_Collision  \\\n",
       "count          10043.000000      10043.000000        10043.000000   \n",
       "mean               3.875933         15.662153            6.655382   \n",
       "std                1.907214          8.783339            3.526781   \n",
       "min                1.000000          1.000000            1.000000   \n",
       "25%                2.000000          8.000000            4.000000   \n",
       "50%                4.000000         16.000000            7.000000   \n",
       "75%                5.000000         23.000000           10.000000   \n",
       "max                7.000000         31.000000           12.000000   \n",
       "\n",
       "       Hour_of_Collision  Carriageway_Type   Speed_Limit  Junction_Detail  \\\n",
       "count       10043.000000      10043.000000  10043.000000     10043.000000   \n",
       "mean           13.720303         12.201036     42.415613         6.242856   \n",
       "std             5.058169          2.744209     14.524589         5.025990   \n",
       "min             0.000000          1.000000     10.000000         1.000000   \n",
       "25%            10.000000         13.000000     30.000000         1.000000   \n",
       "50%            14.000000         13.000000     30.000000         6.000000   \n",
       "75%            17.000000         13.000000     60.000000        12.000000   \n",
       "max            23.000000         14.000000     70.000000        12.000000   \n",
       "\n",
       "       Junction_Control  Ped_Crossing_PC  Light_Conditions  \\\n",
       "count      10043.000000     10043.000000      10043.000000   \n",
       "mean           4.243354         2.194464          3.237778   \n",
       "std            2.862988         3.210115          2.067334   \n",
       "min            1.000000         1.000000          1.000000   \n",
       "25%            1.000000         1.000000          1.000000   \n",
       "50%            7.000000         1.000000          3.000000   \n",
       "75%            7.000000         1.000000          5.000000   \n",
       "max            7.000000        12.000000          7.000000   \n",
       "\n",
       "       Weather_Conditions  Collision_Severity  \n",
       "count        10043.000000        10043.000000  \n",
       "mean             4.717216            2.880613  \n",
       "std              3.745739            0.359226  \n",
       "min              1.000000            1.000000  \n",
       "25%              1.000000            3.000000  \n",
       "50%              3.000000            3.000000  \n",
       "75%              9.000000            3.000000  \n",
       "max             10.000000            3.000000  "
      ]
     },
     "execution_count": 83,
     "metadata": {},
     "output_type": "execute_result"
    }
   ],
   "source": [
    "fin_data_full.describe()"
   ]
  },
  {
   "cell_type": "markdown",
   "metadata": {},
   "source": [
    "### Data Splitting "
   ]
  },
  {
   "cell_type": "markdown",
   "metadata": {},
   "source": [
    "###Separating the data and labels"
   ]
  },
  {
   "cell_type": "code",
   "execution_count": 41,
   "metadata": {
    "scrolled": true
   },
   "outputs": [
    {
     "data": {
      "text/plain": [
       "(10043, 12)"
      ]
     },
     "execution_count": 41,
     "metadata": {},
     "output_type": "execute_result"
    }
   ],
   "source": [
    "X=fin_data_full.values[:,:12]\n",
    "X.shape"
   ]
  },
  {
   "cell_type": "code",
   "execution_count": null,
   "metadata": {},
   "outputs": [],
   "source": [
    "#large_data_full['Collision_Severity'].value_counts()"
   ]
  },
  {
   "cell_type": "code",
   "execution_count": 42,
   "metadata": {},
   "outputs": [
    {
     "data": {
      "text/plain": [
       "numpy.ndarray"
      ]
     },
     "execution_count": 42,
     "metadata": {},
     "output_type": "execute_result"
    }
   ],
   "source": [
    "#Y=list(fin_data_full.values[:,15:].flatten())\n",
    "Y=fin_data_full.values[:,12:].flatten()\n",
    "type(Y)"
   ]
  },
  {
   "cell_type": "markdown",
   "metadata": {},
   "source": [
    "###Splitting using Cross-Validation techniques"
   ]
  },
  {
   "cell_type": "code",
   "execution_count": null,
   "metadata": {},
   "outputs": [],
   "source": [
    "kf=KFold(n_splits=50, shuffle=False, random_state=100)\n",
    "kf.get_n_splits(fin_data_full)"
   ]
  },
  {
   "cell_type": "code",
   "execution_count": null,
   "metadata": {},
   "outputs": [],
   "source": [
    "for train_index, test_index in kf.split(X):\n",
    "    train, val = X[train_index], X[test_index]\n",
    "    ltrain, lval = Y[train_index], Y[test_index]\n",
    "    #print(val.shape,lval.shape)\n",
    "    clf.fit(train, list(ltrain))\n",
    "    Y_pred = clf.predict(val)\n",
    "    accuracy = accuracy_score(list(lval),Y_pred)\n",
    "    print(accuracy)\n",
    "    \n"
   ]
  },
  {
   "cell_type": "code",
   "execution_count": null,
   "metadata": {},
   "outputs": [],
   "source": [
    "#scores = cross_val_score(bbc, Xre, Yre, cv=50)\n",
    "#scores"
   ]
  },
  {
   "cell_type": "code",
   "execution_count": null,
   "metadata": {},
   "outputs": [],
   "source": [
    "\n",
    "#cv = ShuffleSplit(n_splits=50, test_size=0.29, random_state=102)\n",
    "#cross_val_score(bbc, Xre, Yre, cv=cv)"
   ]
  },
  {
   "cell_type": "markdown",
   "metadata": {},
   "source": [
    "###Splitting into train and val using sklearn splitter"
   ]
  },
  {
   "cell_type": "code",
   "execution_count": null,
   "metadata": {
    "scrolled": false
   },
   "outputs": [],
   "source": [
    "#X_train, X_val, Y_train, Y_val = train_test_split(X,Y,test_size=0.20,random_state=400)\n",
    "#print(X_train.shape,X_val.shape,len(Y_train),len(Y_val))"
   ]
  },
  {
   "cell_type": "markdown",
   "metadata": {},
   "source": [
    "### Training Classifiers"
   ]
  },
  {
   "cell_type": "code",
   "execution_count": 43,
   "metadata": {
    "scrolled": true
   },
   "outputs": [],
   "source": [
    "\n",
    "\n",
    "#clf=DecisionTreeClassifier(criterion = \"gini\",random_state = 100,max_depth=20, min_samples_leaf=500)\n",
    "#clf = RandomForestClassifier(class_weight={1:3,2:3,3:1},criterion='gini',min_samples_leaf=5,max_depth=10, random_state=50,n_estimators=70)\n",
    "#clf=AdaBoostClassifier(learning_rate=0.1,random_state=100,n_estimators=100)\n",
    "#clf=XGBClassifier(learning_rate=0.01,random_state=100)\n",
    "#clf=GradientBoostingClassifier(learning_rate=0.01,max_depth=30,n_estimators=100)\n",
    "#clf.fit(X, Y)"
   ]
  },
  {
   "cell_type": "code",
   "execution_count": 68,
   "metadata": {},
   "outputs": [],
   "source": [
    "parameters={'criterion':['gini'],'min_samples_leaf':range(1,50,5),'max_depth':range(1,25,5),'random_state':range(0,400,50),'n_estimators':range(40,70,5)}"
   ]
  },
  {
   "cell_type": "code",
   "execution_count": 69,
   "metadata": {},
   "outputs": [],
   "source": [
    "grid_search=GridSearchCV(clf,parameters,cv=None)"
   ]
  },
  {
   "cell_type": "code",
   "execution_count": 70,
   "metadata": {},
   "outputs": [
    {
     "data": {
      "text/plain": [
       "GridSearchCV(cv=None, error_score='raise',\n",
       "       estimator=RandomForestClassifier(bootstrap=True, class_weight=None, criterion='gini',\n",
       "            max_depth=None, max_features='auto', max_leaf_nodes=None,\n",
       "            min_impurity_decrease=0.0, min_impurity_split=None,\n",
       "            min_samples_leaf=1, min_samples_split=2,\n",
       "            min_weight_fraction_leaf=0.0, n_estimators=10, n_jobs=1,\n",
       "            oob_score=False, random_state=None, verbose=0,\n",
       "            warm_start=False),\n",
       "       fit_params=None, iid=True, n_jobs=1,\n",
       "       param_grid={'criterion': ['gini'], 'min_samples_leaf': range(1, 50, 5), 'max_depth': range(1, 25, 5), 'random_state': range(0, 400, 50), 'n_estimators': range(40, 70, 5)},\n",
       "       pre_dispatch='2*n_jobs', refit=True, return_train_score='warn',\n",
       "       scoring=None, verbose=0)"
      ]
     },
     "execution_count": 70,
     "metadata": {},
     "output_type": "execute_result"
    }
   ],
   "source": [
    "grid_search.fit(X,list(Y))"
   ]
  },
  {
   "cell_type": "code",
   "execution_count": 72,
   "metadata": {
    "scrolled": true
   },
   "outputs": [
    {
     "data": {
      "text/plain": [
       "(0.8952504231803246,\n",
       " {'criterion': 'gini',\n",
       "  'max_depth': 11,\n",
       "  'min_samples_leaf': 1,\n",
       "  'n_estimators': 45,\n",
       "  'random_state': 350})"
      ]
     },
     "execution_count": 72,
     "metadata": {},
     "output_type": "execute_result"
    }
   ],
   "source": [
    "grid_search.best_score_,grid_search.best_params_"
   ]
  },
  {
   "cell_type": "code",
   "execution_count": 132,
   "metadata": {},
   "outputs": [
    {
     "data": {
      "text/plain": [
       "RandomForestClassifier(bootstrap=True, class_weight=None, criterion='gini',\n",
       "            max_depth=11, max_features='auto', max_leaf_nodes=None,\n",
       "            min_impurity_decrease=0.0, min_impurity_split=None,\n",
       "            min_samples_leaf=1, min_samples_split=2,\n",
       "            min_weight_fraction_leaf=0.0, n_estimators=45, n_jobs=1,\n",
       "            oob_score=False, random_state=350, verbose=0, warm_start=False)"
      ]
     },
     "execution_count": 132,
     "metadata": {},
     "output_type": "execute_result"
    }
   ],
   "source": [
    "clf = RandomForestClassifier(criterion='gini',min_samples_leaf=1,max_depth=11, random_state=350,n_estimators=45)\n",
    "clf.fit(X, list(Y))"
   ]
  },
  {
   "cell_type": "code",
   "execution_count": null,
   "metadata": {},
   "outputs": [],
   "source": [
    "Y_pred = bbc.predict(X_val)\n",
    "accuracy = accuracy_score(Y_val,Y_pred)\n",
    "print(accuracy)"
   ]
  },
  {
   "cell_type": "markdown",
   "metadata": {},
   "source": [
    "### Sampling to remove Bias"
   ]
  },
  {
   "cell_type": "code",
   "execution_count": null,
   "metadata": {},
   "outputs": [],
   "source": [
    "#from imblearn.over_sampling import SMOTE\n",
    "#sm=SMOTE(ratio='auto', kind='regular')\n",
    "#Xre, Yre= sm.fit_sample(X, Y)\n"
   ]
  },
  {
   "cell_type": "code",
   "execution_count": null,
   "metadata": {},
   "outputs": [],
   "source": [
    "#from imblearn.over_sampling import RandomOverSampler\n",
    "#ros = RandomOverSampler(random_state=100)\n",
    "#Xre, Yre= ros.fit_sample(X, Y)"
   ]
  },
  {
   "cell_type": "code",
   "execution_count": null,
   "metadata": {},
   "outputs": [],
   "source": [
    "#from imblearn.under_sampling import NearMiss\n",
    "#nm = NearMiss(random_state=50)\n",
    "#Xre, Yre= nm.fit_sample(X, Y)"
   ]
  },
  {
   "cell_type": "code",
   "execution_count": null,
   "metadata": {
    "scrolled": true
   },
   "outputs": [],
   "source": [
    "#from imblearn.ensemble import BalancedBaggingClassifier\n",
    "#bbc = BalancedBaggingClassifier(random_state=42,bootstrap_features=False,n_estimators=65,max_features=14)\n",
    "#bbc.fit(X_train, Y_train)"
   ]
  },
  {
   "cell_type": "code",
   "execution_count": null,
   "metadata": {},
   "outputs": [],
   "source": [
    "#unique, counts = np.unique(Yre, return_counts=True)\n",
    "#print (np.asarray((unique, counts)).T)"
   ]
  },
  {
   "cell_type": "markdown",
   "metadata": {},
   "source": [
    "### Testing"
   ]
  },
  {
   "cell_type": "code",
   "execution_count": 115,
   "metadata": {},
   "outputs": [],
   "source": [
    "test=pd.read_csv('/Users/kaku/Downloads/AIML/Crashathon/Accident_test.csv')"
   ]
  },
  {
   "cell_type": "code",
   "execution_count": 116,
   "metadata": {},
   "outputs": [],
   "source": [
    "#test"
   ]
  },
  {
   "cell_type": "code",
   "execution_count": 117,
   "metadata": {},
   "outputs": [],
   "source": [
    "test_data=test.drop(['Collision_Ref_No','Collision_Severity'],axis=1)"
   ]
  },
  {
   "cell_type": "code",
   "execution_count": 118,
   "metadata": {},
   "outputs": [
    {
     "data": {
      "text/plain": [
       "(354, 15)"
      ]
     },
     "execution_count": 118,
     "metadata": {},
     "output_type": "execute_result"
    }
   ],
   "source": [
    "test_data.shape"
   ]
  },
  {
   "cell_type": "code",
   "execution_count": 119,
   "metadata": {},
   "outputs": [],
   "source": [
    "#hot_weekday_test=pd.get_dummies(test_data['Weekday_of_Collision'])\n",
    "#hot_areas_test=pd.get_dummies(test_data['Policing_Area'])"
   ]
  },
  {
   "cell_type": "code",
   "execution_count": 120,
   "metadata": {},
   "outputs": [],
   "source": [
    "#test_data=pd.concat([hot_areas_test,hot_weekday_test,test_data], axis=1)\n",
    "#print(list(test_data),test_data.shape)"
   ]
  },
  {
   "cell_type": "code",
   "execution_count": 121,
   "metadata": {
    "scrolled": true
   },
   "outputs": [
    {
     "data": {
      "text/html": [
       "<div>\n",
       "<style scoped>\n",
       "    .dataframe tbody tr th:only-of-type {\n",
       "        vertical-align: middle;\n",
       "    }\n",
       "\n",
       "    .dataframe tbody tr th {\n",
       "        vertical-align: top;\n",
       "    }\n",
       "\n",
       "    .dataframe thead th {\n",
       "        text-align: right;\n",
       "    }\n",
       "</style>\n",
       "<table border=\"1\" class=\"dataframe\">\n",
       "  <thead>\n",
       "    <tr style=\"text-align: right;\">\n",
       "      <th></th>\n",
       "      <th>Policing_Area</th>\n",
       "      <th>Weekday_of_Collision</th>\n",
       "      <th>Day_of_Collision</th>\n",
       "      <th>Month_of_Collision</th>\n",
       "      <th>Hour_of_Collision</th>\n",
       "      <th>Carriageway_Type</th>\n",
       "      <th>Speed_Limit</th>\n",
       "      <th>Junction_Detail</th>\n",
       "      <th>Junction_Control</th>\n",
       "      <th>Ped_Crossing_HC</th>\n",
       "      <th>Ped_Crossing_PC</th>\n",
       "      <th>Light_Conditions</th>\n",
       "      <th>Weather_Conditions</th>\n",
       "      <th>Road_Surface_Conditions</th>\n",
       "      <th>Special_Conditions_at_Site</th>\n",
       "      <th>Policing</th>\n",
       "    </tr>\n",
       "  </thead>\n",
       "  <tbody>\n",
       "    <tr>\n",
       "      <th>0</th>\n",
       "      <td>DAST</td>\n",
       "      <td>1</td>\n",
       "      <td>17</td>\n",
       "      <td>2</td>\n",
       "      <td>21.0</td>\n",
       "      <td>13</td>\n",
       "      <td>60</td>\n",
       "      <td>10.0</td>\n",
       "      <td>7.0</td>\n",
       "      <td>1.0</td>\n",
       "      <td>1.0</td>\n",
       "      <td>5</td>\n",
       "      <td>9</td>\n",
       "      <td>6.0</td>\n",
       "      <td>1.0</td>\n",
       "      <td>21</td>\n",
       "    </tr>\n",
       "    <tr>\n",
       "      <th>1</th>\n",
       "      <td>ARBC</td>\n",
       "      <td>2</td>\n",
       "      <td>13</td>\n",
       "      <td>1</td>\n",
       "      <td>8.0</td>\n",
       "      <td>13</td>\n",
       "      <td>60</td>\n",
       "      <td>10.0</td>\n",
       "      <td>NaN</td>\n",
       "      <td>1.0</td>\n",
       "      <td>1.0</td>\n",
       "      <td>7</td>\n",
       "      <td>1</td>\n",
       "      <td>1.0</td>\n",
       "      <td>1.0</td>\n",
       "      <td>3</td>\n",
       "    </tr>\n",
       "    <tr>\n",
       "      <th>2</th>\n",
       "      <td>NEMD</td>\n",
       "      <td>6</td>\n",
       "      <td>24</td>\n",
       "      <td>10</td>\n",
       "      <td>18.0</td>\n",
       "      <td>13</td>\n",
       "      <td>30</td>\n",
       "      <td>6.0</td>\n",
       "      <td>7.0</td>\n",
       "      <td>1.0</td>\n",
       "      <td>1.0</td>\n",
       "      <td>6</td>\n",
       "      <td>1</td>\n",
       "      <td>1.0</td>\n",
       "      <td>1.0</td>\n",
       "      <td>37</td>\n",
       "    </tr>\n",
       "    <tr>\n",
       "      <th>3</th>\n",
       "      <td>MEAN</td>\n",
       "      <td>7</td>\n",
       "      <td>10</td>\n",
       "      <td>5</td>\n",
       "      <td>13.0</td>\n",
       "      <td>11</td>\n",
       "      <td>70</td>\n",
       "      <td>12.0</td>\n",
       "      <td>7.0</td>\n",
       "      <td>1.0</td>\n",
       "      <td>1.0</td>\n",
       "      <td>1</td>\n",
       "      <td>9</td>\n",
       "      <td>1.0</td>\n",
       "      <td>1.0</td>\n",
       "      <td>31</td>\n",
       "    </tr>\n",
       "    <tr>\n",
       "      <th>4</th>\n",
       "      <td>FOYL</td>\n",
       "      <td>4</td>\n",
       "      <td>23</td>\n",
       "      <td>1</td>\n",
       "      <td>10.0</td>\n",
       "      <td>13</td>\n",
       "      <td>60</td>\n",
       "      <td>1.0</td>\n",
       "      <td>1.0</td>\n",
       "      <td>1.0</td>\n",
       "      <td>1.0</td>\n",
       "      <td>2</td>\n",
       "      <td>3</td>\n",
       "      <td>2.0</td>\n",
       "      <td>1.0</td>\n",
       "      <td>26</td>\n",
       "    </tr>\n",
       "  </tbody>\n",
       "</table>\n",
       "</div>"
      ],
      "text/plain": [
       "  Policing_Area  Weekday_of_Collision  Day_of_Collision  Month_of_Collision  \\\n",
       "0          DAST                     1                17                   2   \n",
       "1          ARBC                     2                13                   1   \n",
       "2          NEMD                     6                24                  10   \n",
       "3          MEAN                     7                10                   5   \n",
       "4          FOYL                     4                23                   1   \n",
       "\n",
       "   Hour_of_Collision  Carriageway_Type  Speed_Limit  Junction_Detail  \\\n",
       "0               21.0                13           60             10.0   \n",
       "1                8.0                13           60             10.0   \n",
       "2               18.0                13           30              6.0   \n",
       "3               13.0                11           70             12.0   \n",
       "4               10.0                13           60              1.0   \n",
       "\n",
       "   Junction_Control  Ped_Crossing_HC  Ped_Crossing_PC  Light_Conditions  \\\n",
       "0               7.0              1.0              1.0                 5   \n",
       "1               NaN              1.0              1.0                 7   \n",
       "2               7.0              1.0              1.0                 6   \n",
       "3               7.0              1.0              1.0                 1   \n",
       "4               1.0              1.0              1.0                 2   \n",
       "\n",
       "   Weather_Conditions  Road_Surface_Conditions  Special_Conditions_at_Site  \\\n",
       "0                   9                      6.0                         1.0   \n",
       "1                   1                      1.0                         1.0   \n",
       "2                   1                      1.0                         1.0   \n",
       "3                   9                      1.0                         1.0   \n",
       "4                   3                      2.0                         1.0   \n",
       "\n",
       "  Policing  \n",
       "0       21  \n",
       "1        3  \n",
       "2       37  \n",
       "3       31  \n",
       "4       26  "
      ]
     },
     "execution_count": 121,
     "metadata": {},
     "output_type": "execute_result"
    }
   ],
   "source": [
    "test_data['Policing'] = test_data.Policing_Area.astype('category').cat.rename_categories(range(1, test_data.Policing_Area.nunique()+1))\n",
    "\n",
    "week={'MON':1,'TUE':2,'WED':3,'THU':4,'FRI':5,'SAT':6,'SUN':7}\n",
    "test_data[\"Weekday_of_Collision\"] = test_data[\"Weekday_of_Collision\"].map(week)\n",
    "\n",
    "#print(list(fin_data),fin_data.shape)\n",
    "test_data.head()\n",
    "\n"
   ]
  },
  {
   "cell_type": "code",
   "execution_count": 114,
   "metadata": {},
   "outputs": [
    {
     "data": {
      "text/html": [
       "<div>\n",
       "<style scoped>\n",
       "    .dataframe tbody tr th:only-of-type {\n",
       "        vertical-align: middle;\n",
       "    }\n",
       "\n",
       "    .dataframe tbody tr th {\n",
       "        vertical-align: top;\n",
       "    }\n",
       "\n",
       "    .dataframe thead th {\n",
       "        text-align: right;\n",
       "    }\n",
       "</style>\n",
       "<table border=\"1\" class=\"dataframe\">\n",
       "  <thead>\n",
       "    <tr style=\"text-align: right;\">\n",
       "      <th></th>\n",
       "      <th>Weekday_of_Collision</th>\n",
       "      <th>Day_of_Collision</th>\n",
       "      <th>Month_of_Collision</th>\n",
       "      <th>Hour_of_Collision</th>\n",
       "      <th>Carriageway_Type</th>\n",
       "      <th>Speed_Limit</th>\n",
       "      <th>Junction_Detail</th>\n",
       "      <th>Junction_Control</th>\n",
       "      <th>Ped_Crossing_PC</th>\n",
       "      <th>Light_Conditions</th>\n",
       "      <th>Weather_Conditions</th>\n",
       "      <th>Policing</th>\n",
       "      <th>Collision_Severity</th>\n",
       "    </tr>\n",
       "  </thead>\n",
       "  <tbody>\n",
       "    <tr>\n",
       "      <th>0</th>\n",
       "      <td>1</td>\n",
       "      <td>4</td>\n",
       "      <td>8</td>\n",
       "      <td>14.0</td>\n",
       "      <td>13</td>\n",
       "      <td>60</td>\n",
       "      <td>1.0</td>\n",
       "      <td>1.0</td>\n",
       "      <td>1.0</td>\n",
       "      <td>2</td>\n",
       "      <td>9</td>\n",
       "      <td>20</td>\n",
       "      <td>3</td>\n",
       "    </tr>\n",
       "    <tr>\n",
       "      <th>1</th>\n",
       "      <td>6</td>\n",
       "      <td>8</td>\n",
       "      <td>8</td>\n",
       "      <td>17.0</td>\n",
       "      <td>11</td>\n",
       "      <td>50</td>\n",
       "      <td>12.0</td>\n",
       "      <td>7.0</td>\n",
       "      <td>1.0</td>\n",
       "      <td>4</td>\n",
       "      <td>3</td>\n",
       "      <td>8</td>\n",
       "      <td>3</td>\n",
       "    </tr>\n",
       "    <tr>\n",
       "      <th>2</th>\n",
       "      <td>3</td>\n",
       "      <td>5</td>\n",
       "      <td>11</td>\n",
       "      <td>17.0</td>\n",
       "      <td>1</td>\n",
       "      <td>60</td>\n",
       "      <td>12.0</td>\n",
       "      <td>7.0</td>\n",
       "      <td>1.0</td>\n",
       "      <td>2</td>\n",
       "      <td>2</td>\n",
       "      <td>29</td>\n",
       "      <td>3</td>\n",
       "    </tr>\n",
       "    <tr>\n",
       "      <th>3</th>\n",
       "      <td>7</td>\n",
       "      <td>18</td>\n",
       "      <td>10</td>\n",
       "      <td>16.0</td>\n",
       "      <td>12</td>\n",
       "      <td>70</td>\n",
       "      <td>6.0</td>\n",
       "      <td>7.0</td>\n",
       "      <td>1.0</td>\n",
       "      <td>1</td>\n",
       "      <td>3</td>\n",
       "      <td>8</td>\n",
       "      <td>3</td>\n",
       "    </tr>\n",
       "    <tr>\n",
       "      <th>4</th>\n",
       "      <td>1</td>\n",
       "      <td>23</td>\n",
       "      <td>11</td>\n",
       "      <td>9.0</td>\n",
       "      <td>13</td>\n",
       "      <td>60</td>\n",
       "      <td>6.0</td>\n",
       "      <td>7.0</td>\n",
       "      <td>1.0</td>\n",
       "      <td>2</td>\n",
       "      <td>3</td>\n",
       "      <td>33</td>\n",
       "      <td>3</td>\n",
       "    </tr>\n",
       "  </tbody>\n",
       "</table>\n",
       "</div>"
      ],
      "text/plain": [
       "   Weekday_of_Collision  Day_of_Collision  Month_of_Collision  \\\n",
       "0                     1                 4                   8   \n",
       "1                     6                 8                   8   \n",
       "2                     3                 5                  11   \n",
       "3                     7                18                  10   \n",
       "4                     1                23                  11   \n",
       "\n",
       "   Hour_of_Collision  Carriageway_Type  Speed_Limit  Junction_Detail  \\\n",
       "0               14.0                13           60              1.0   \n",
       "1               17.0                11           50             12.0   \n",
       "2               17.0                 1           60             12.0   \n",
       "3               16.0                12           70              6.0   \n",
       "4                9.0                13           60              6.0   \n",
       "\n",
       "   Junction_Control  Ped_Crossing_PC  Light_Conditions  Weather_Conditions  \\\n",
       "0               1.0              1.0                 2                   9   \n",
       "1               7.0              1.0                 4                   3   \n",
       "2               7.0              1.0                 2                   2   \n",
       "3               7.0              1.0                 1                   3   \n",
       "4               7.0              1.0                 2                   3   \n",
       "\n",
       "  Policing  Collision_Severity  \n",
       "0       20                   3  \n",
       "1        8                   3  \n",
       "2       29                   3  \n",
       "3        8                   3  \n",
       "4       33                   3  "
      ]
     },
     "execution_count": 114,
     "metadata": {},
     "output_type": "execute_result"
    }
   ],
   "source": [
    "fin_data_full.head()"
   ]
  },
  {
   "cell_type": "code",
   "execution_count": 122,
   "metadata": {},
   "outputs": [],
   "source": [
    "test_data=test_data.drop(['Road_Surface_Conditions','Policing_Area','Ped_Crossing_HC','Special_Conditions_at_Site'], axis=1)\n",
    "#print(large_data)\n",
    "#print(list(test_data),test_data.shape)"
   ]
  },
  {
   "cell_type": "code",
   "execution_count": 124,
   "metadata": {},
   "outputs": [
    {
     "data": {
      "text/html": [
       "<div>\n",
       "<style scoped>\n",
       "    .dataframe tbody tr th:only-of-type {\n",
       "        vertical-align: middle;\n",
       "    }\n",
       "\n",
       "    .dataframe tbody tr th {\n",
       "        vertical-align: top;\n",
       "    }\n",
       "\n",
       "    .dataframe thead th {\n",
       "        text-align: right;\n",
       "    }\n",
       "</style>\n",
       "<table border=\"1\" class=\"dataframe\">\n",
       "  <thead>\n",
       "    <tr style=\"text-align: right;\">\n",
       "      <th></th>\n",
       "      <th>Weekday_of_Collision</th>\n",
       "      <th>Day_of_Collision</th>\n",
       "      <th>Month_of_Collision</th>\n",
       "      <th>Hour_of_Collision</th>\n",
       "      <th>Carriageway_Type</th>\n",
       "      <th>Speed_Limit</th>\n",
       "      <th>Junction_Detail</th>\n",
       "      <th>Junction_Control</th>\n",
       "      <th>Ped_Crossing_PC</th>\n",
       "      <th>Light_Conditions</th>\n",
       "      <th>Weather_Conditions</th>\n",
       "      <th>Policing</th>\n",
       "    </tr>\n",
       "  </thead>\n",
       "  <tbody>\n",
       "    <tr>\n",
       "      <th>0</th>\n",
       "      <td>1</td>\n",
       "      <td>17</td>\n",
       "      <td>2</td>\n",
       "      <td>21.0</td>\n",
       "      <td>13</td>\n",
       "      <td>60</td>\n",
       "      <td>10.0</td>\n",
       "      <td>7.0</td>\n",
       "      <td>1.0</td>\n",
       "      <td>5</td>\n",
       "      <td>9</td>\n",
       "      <td>21</td>\n",
       "    </tr>\n",
       "    <tr>\n",
       "      <th>1</th>\n",
       "      <td>2</td>\n",
       "      <td>13</td>\n",
       "      <td>1</td>\n",
       "      <td>8.0</td>\n",
       "      <td>13</td>\n",
       "      <td>60</td>\n",
       "      <td>10.0</td>\n",
       "      <td>NaN</td>\n",
       "      <td>1.0</td>\n",
       "      <td>7</td>\n",
       "      <td>1</td>\n",
       "      <td>3</td>\n",
       "    </tr>\n",
       "    <tr>\n",
       "      <th>2</th>\n",
       "      <td>6</td>\n",
       "      <td>24</td>\n",
       "      <td>10</td>\n",
       "      <td>18.0</td>\n",
       "      <td>13</td>\n",
       "      <td>30</td>\n",
       "      <td>6.0</td>\n",
       "      <td>7.0</td>\n",
       "      <td>1.0</td>\n",
       "      <td>6</td>\n",
       "      <td>1</td>\n",
       "      <td>37</td>\n",
       "    </tr>\n",
       "    <tr>\n",
       "      <th>3</th>\n",
       "      <td>7</td>\n",
       "      <td>10</td>\n",
       "      <td>5</td>\n",
       "      <td>13.0</td>\n",
       "      <td>11</td>\n",
       "      <td>70</td>\n",
       "      <td>12.0</td>\n",
       "      <td>7.0</td>\n",
       "      <td>1.0</td>\n",
       "      <td>1</td>\n",
       "      <td>9</td>\n",
       "      <td>31</td>\n",
       "    </tr>\n",
       "    <tr>\n",
       "      <th>4</th>\n",
       "      <td>4</td>\n",
       "      <td>23</td>\n",
       "      <td>1</td>\n",
       "      <td>10.0</td>\n",
       "      <td>13</td>\n",
       "      <td>60</td>\n",
       "      <td>1.0</td>\n",
       "      <td>1.0</td>\n",
       "      <td>1.0</td>\n",
       "      <td>2</td>\n",
       "      <td>3</td>\n",
       "      <td>26</td>\n",
       "    </tr>\n",
       "  </tbody>\n",
       "</table>\n",
       "</div>"
      ],
      "text/plain": [
       "   Weekday_of_Collision  Day_of_Collision  Month_of_Collision  \\\n",
       "0                     1                17                   2   \n",
       "1                     2                13                   1   \n",
       "2                     6                24                  10   \n",
       "3                     7                10                   5   \n",
       "4                     4                23                   1   \n",
       "\n",
       "   Hour_of_Collision  Carriageway_Type  Speed_Limit  Junction_Detail  \\\n",
       "0               21.0                13           60             10.0   \n",
       "1                8.0                13           60             10.0   \n",
       "2               18.0                13           30              6.0   \n",
       "3               13.0                11           70             12.0   \n",
       "4               10.0                13           60              1.0   \n",
       "\n",
       "   Junction_Control  Ped_Crossing_PC  Light_Conditions  Weather_Conditions  \\\n",
       "0               7.0              1.0                 5                   9   \n",
       "1               NaN              1.0                 7                   1   \n",
       "2               7.0              1.0                 6                   1   \n",
       "3               7.0              1.0                 1                   9   \n",
       "4               1.0              1.0                 2                   3   \n",
       "\n",
       "  Policing  \n",
       "0       21  \n",
       "1        3  \n",
       "2       37  \n",
       "3       31  \n",
       "4       26  "
      ]
     },
     "execution_count": 124,
     "metadata": {},
     "output_type": "execute_result"
    }
   ],
   "source": [
    "test_data.head()"
   ]
  },
  {
   "cell_type": "code",
   "execution_count": 125,
   "metadata": {},
   "outputs": [
    {
     "data": {
      "text/plain": [
       "['Hour_of_Collision',\n",
       " 'Junction_Detail',\n",
       " 'Junction_Control',\n",
       " 'Ped_Crossing_PC',\n",
       " 'Policing']"
      ]
     },
     "execution_count": 125,
     "metadata": {},
     "output_type": "execute_result"
    }
   ],
   "source": [
    "test_data.columns[test_data.isna().any()].tolist()"
   ]
  },
  {
   "cell_type": "code",
   "execution_count": 126,
   "metadata": {},
   "outputs": [],
   "source": [
    "test_data_full=test_data.apply(lambda x:x.fillna(x.value_counts().index[0]))"
   ]
  },
  {
   "cell_type": "code",
   "execution_count": 127,
   "metadata": {},
   "outputs": [
    {
     "data": {
      "text/plain": [
       "[]"
      ]
     },
     "execution_count": 127,
     "metadata": {},
     "output_type": "execute_result"
    }
   ],
   "source": [
    "test_data_full.columns[test_data_full.isna().any()].tolist()"
   ]
  },
  {
   "cell_type": "code",
   "execution_count": 128,
   "metadata": {},
   "outputs": [
    {
     "data": {
      "text/plain": [
       "(354, 12)"
      ]
     },
     "execution_count": 128,
     "metadata": {},
     "output_type": "execute_result"
    }
   ],
   "source": [
    "test_data_full.shape"
   ]
  },
  {
   "cell_type": "code",
   "execution_count": null,
   "metadata": {
    "scrolled": false
   },
   "outputs": [],
   "source": [
    "Y_pred_test = clf.predict(test_data_full)\n",
    "Y_pred_test"
   ]
  },
  {
   "cell_type": "markdown",
   "metadata": {},
   "source": [
    "### File Saving "
   ]
  },
  {
   "cell_type": "code",
   "execution_count": null,
   "metadata": {},
   "outputs": [],
   "source": [
    "'''q=pd.DataFrame(Y_pred_test)\n",
    "q.index += 1 \n",
    "q.to_csv('Take_1.csv',sep=',',index=True,index_label='S.No.', header=['Collision_Severity'])'''\n",
    "\n"
   ]
  },
  {
   "cell_type": "code",
   "execution_count": 134,
   "metadata": {},
   "outputs": [],
   "source": [
    "fil=open('Take_GSCV.csv','w')\n",
    "fil.write('S.No.,Collision_Severity\\n')\n",
    "for i in range(Y_pred_test.shape[0]-1):\n",
    "   fil.write('%d,%d\\n'%(i+1,Y_pred_test[i]))\n",
    "fil.write('%d,%d'%(i+2,Y_pred_test[i+1]))\n",
    "fil.close()"
   ]
  },
  {
   "cell_type": "code",
   "execution_count": null,
   "metadata": {},
   "outputs": [],
   "source": [
    "#from sklearn import tree\n",
    "#tree.export_graphviz(clf, out_file='clf.dot')"
   ]
  },
  {
   "cell_type": "code",
   "execution_count": null,
   "metadata": {},
   "outputs": [],
   "source": []
  },
  {
   "cell_type": "code",
   "execution_count": null,
   "metadata": {},
   "outputs": [],
   "source": []
  },
  {
   "cell_type": "code",
   "execution_count": null,
   "metadata": {},
   "outputs": [],
   "source": []
  },
  {
   "cell_type": "code",
   "execution_count": null,
   "metadata": {},
   "outputs": [],
   "source": []
  }
 ],
 "metadata": {
  "kernelspec": {
   "display_name": "Python 3",
   "language": "python",
   "name": "python3"
  },
  "language_info": {
   "codemirror_mode": {
    "name": "ipython",
    "version": 3
   },
   "file_extension": ".py",
   "mimetype": "text/x-python",
   "name": "python",
   "nbconvert_exporter": "python",
   "pygments_lexer": "ipython3",
   "version": "3.6.3"
  }
 },
 "nbformat": 4,
 "nbformat_minor": 2
}
